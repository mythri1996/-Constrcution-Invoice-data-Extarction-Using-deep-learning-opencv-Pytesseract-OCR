{
 "cells": [
  {
   "cell_type": "code",
   "execution_count": 1,
   "id": "be61f8da",
   "metadata": {},
   "outputs": [
    {
     "name": "stdout",
     "output_type": "stream",
     "text": [
      "2.4.0\n"
     ]
    }
   ],
   "source": [
    "import tensorflow as tf\n",
    "print(tf.__version__)"
   ]
  },
  {
   "cell_type": "code",
   "execution_count": null,
   "id": "608520ab",
   "metadata": {},
   "outputs": [],
   "source": [
    "tensorflow==2.4.0\n",
    "python==3.8.12\n",
    "visual studio c++ 2019"
   ]
  },
  {
   "cell_type": "code",
   "execution_count": 3,
   "id": "9e399a0d",
   "metadata": {},
   "outputs": [
    {
     "name": "stdout",
     "output_type": "stream",
     "text": [
      "C:\\Users\\MYTHRY\\Desktop\\poc2\\Invoice\\fast2\n"
     ]
    }
   ],
   "source": [
    "cd C:\\Users\\MYTHRY\\Desktop\\poc2\\Invoice\\fast2"
   ]
  },
  {
   "cell_type": "markdown",
   "id": "c8f46f2e",
   "metadata": {},
   "source": [
    "# Clone tensorflow repositary"
   ]
  },
  {
   "cell_type": "code",
   "execution_count": 4,
   "id": "fc5efb55",
   "metadata": {},
   "outputs": [
    {
     "name": "stderr",
     "output_type": "stream",
     "text": [
      "fatal: destination path 'models' already exists and is not an empty directory.\n"
     ]
    }
   ],
   "source": [
    "#git downlaod\n",
    "!git clone https://github.com/tensorflow/models.git"
   ]
  },
  {
   "cell_type": "markdown",
   "id": "3a73de51",
   "metadata": {},
   "source": [
    "# Protobuf Installation/Compilation"
   ]
  },
  {
   "cell_type": "code",
   "execution_count": null,
   "id": "fa22f4e7",
   "metadata": {},
   "outputs": [],
   "source": [
    "download :protoc-3.19.1-win64\n",
    "    \n",
    "link:https://github.com/protocolbuffers/protobuf/releases\n",
    "                \n",
    "C:\\Program Files\\Google protobuf\n",
    "paste the unziped files"
   ]
  },
  {
   "cell_type": "code",
   "execution_count": 5,
   "id": "b022774d",
   "metadata": {},
   "outputs": [
    {
     "name": "stdout",
     "output_type": "stream",
     "text": [
      "C:\\Users\\MYTHRY\\Desktop\\poc2\\Invoice\\fast2\\models\\research\n"
     ]
    }
   ],
   "source": [
    "cd C:\\Users\\MYTHRY\\Desktop\\poc2\\Invoice\\fast2\\models\\research"
   ]
  },
  {
   "cell_type": "code",
   "execution_count": 7,
   "id": "faa16fd8",
   "metadata": {},
   "outputs": [],
   "source": [
    "# From within TensorFlow/models/research/\n",
    "!protoc object_detection/protos/*.proto --python_out=."
   ]
  },
  {
   "cell_type": "markdown",
   "id": "8891258d",
   "metadata": {},
   "source": [
    "# COCO API installation"
   ]
  },
  {
   "cell_type": "code",
   "execution_count": 8,
   "id": "05929f23",
   "metadata": {},
   "outputs": [
    {
     "name": "stdout",
     "output_type": "stream",
     "text": [
      "Requirement already satisfied: cython in c:\\users\\mythry\\.conda\\envs\\fast2\\lib\\site-packages (0.29.26)\n"
     ]
    }
   ],
   "source": [
    "!pip install cython"
   ]
  },
  {
   "cell_type": "code",
   "execution_count": null,
   "id": "5a7ce873",
   "metadata": {},
   "outputs": [],
   "source": [
    "#download and set the env varible  visual studio c++ 2019"
   ]
  },
  {
   "cell_type": "code",
   "execution_count": 9,
   "id": "9786b48f",
   "metadata": {},
   "outputs": [
    {
     "name": "stdout",
     "output_type": "stream",
     "text": [
      "Collecting git+https://github.com/philferriere/cocoapi.git#subdirectory=PythonAPI\n",
      "  Cloning https://github.com/philferriere/cocoapi.git to c:\\users\\mythry\\appdata\\local\\temp\\pip-req-build-_91qv_or\n",
      "  Resolved https://github.com/philferriere/cocoapi.git to commit 2929bd2ef6b451054755dfd7ceb09278f935f7ad\n"
     ]
    },
    {
     "name": "stderr",
     "output_type": "stream",
     "text": [
      "  Running command git clone -q https://github.com/philferriere/cocoapi.git 'C:\\Users\\MYTHRY\\AppData\\Local\\Temp\\pip-req-build-_91qv_or'\n"
     ]
    }
   ],
   "source": [
    "!pip install git+https://github.com/philferriere/cocoapi.git#subdirectory=PythonAPI"
   ]
  },
  {
   "cell_type": "markdown",
   "id": "83b6a4a7",
   "metadata": {},
   "source": [
    "# Install the Object Detection API"
   ]
  },
  {
   "cell_type": "code",
   "execution_count": 10,
   "id": "b21c1f77",
   "metadata": {},
   "outputs": [
    {
     "name": "stdout",
     "output_type": "stream",
     "text": [
      "C:\\Users\\MYTHRY\\Desktop\\poc2\\Invoice\\fast2\\models\\research\n"
     ]
    }
   ],
   "source": [
    "cd C:\\Users\\MYTHRY\\Desktop\\poc2\\Invoice\\fast2\\models\\research"
   ]
  },
  {
   "cell_type": "code",
   "execution_count": null,
   "id": "4c78fe10",
   "metadata": {},
   "outputs": [],
   "source": [
    "# git bash \n",
    "# From within TensorFlow/models/research/"
   ]
  },
  {
   "cell_type": "code",
   "execution_count": null,
   "id": "cdd3656f",
   "metadata": {},
   "outputs": [],
   "source": [
    "# From within TensorFlow/models/research/\n",
    "cp object_detection/packages/tf2/setup.py ."
   ]
  },
  {
   "cell_type": "code",
   "execution_count": 11,
   "id": "a0c1b691",
   "metadata": {},
   "outputs": [
    {
     "name": "stdout",
     "output_type": "stream",
     "text": [
      "Processing c:\\users\\mythry\\desktop\\poc2\\invoice\\fast2\\models\\research\n",
      "Requirement already satisfied: avro-python3 in c:\\users\\mythry\\.conda\\envs\\fast2\\lib\\site-packages (from object-detection==0.1) (1.10.2)\n",
      "Requirement already satisfied: apache-beam in c:\\users\\mythry\\.conda\\envs\\fast2\\lib\\site-packages (from object-detection==0.1) (2.35.0)\n",
      "Requirement already satisfied: pillow in c:\\users\\mythry\\.conda\\envs\\fast2\\lib\\site-packages (from object-detection==0.1) (9.0.0)\n",
      "Requirement already satisfied: lxml in c:\\users\\mythry\\.conda\\envs\\fast2\\lib\\site-packages (from object-detection==0.1) (4.7.1)\n",
      "Requirement already satisfied: matplotlib in c:\\users\\mythry\\.conda\\envs\\fast2\\lib\\site-packages (from object-detection==0.1) (3.5.1)\n",
      "Requirement already satisfied: Cython in c:\\users\\mythry\\.conda\\envs\\fast2\\lib\\site-packages (from object-detection==0.1) (0.29.26)\n",
      "Requirement already satisfied: contextlib2 in c:\\users\\mythry\\.conda\\envs\\fast2\\lib\\site-packages (from object-detection==0.1) (21.6.0)\n",
      "Requirement already satisfied: tf-slim in c:\\users\\mythry\\.conda\\envs\\fast2\\lib\\site-packages (from object-detection==0.1) (1.1.0)\n",
      "Requirement already satisfied: six in c:\\users\\mythry\\.conda\\envs\\fast2\\lib\\site-packages (from object-detection==0.1) (1.16.0)\n",
      "Requirement already satisfied: pycocotools in c:\\users\\mythry\\.conda\\envs\\fast2\\lib\\site-packages (from object-detection==0.1) (2.0)\n",
      "Requirement already satisfied: lvis in c:\\users\\mythry\\.conda\\envs\\fast2\\lib\\site-packages (from object-detection==0.1) (0.5.3)\n",
      "Requirement already satisfied: scipy in c:\\users\\mythry\\.conda\\envs\\fast2\\lib\\site-packages (from object-detection==0.1) (1.4.1)\n",
      "Requirement already satisfied: pandas in c:\\users\\mythry\\.conda\\envs\\fast2\\lib\\site-packages (from object-detection==0.1) (1.3.5)\n",
      "Requirement already satisfied: tf-models-official>=2.5.1 in c:\\users\\mythry\\.conda\\envs\\fast2\\lib\\site-packages (from object-detection==0.1) (2.7.0)\n",
      "Requirement already satisfied: tensorflow_io in c:\\users\\mythry\\.conda\\envs\\fast2\\lib\\site-packages (from object-detection==0.1) (0.23.1)\n",
      "Requirement already satisfied: keras in c:\\users\\mythry\\.conda\\envs\\fast2\\lib\\site-packages (from object-detection==0.1) (2.7.0)\n",
      "Requirement already satisfied: kaggle>=1.3.9 in c:\\users\\mythry\\.conda\\envs\\fast2\\lib\\site-packages (from tf-models-official>=2.5.1->object-detection==0.1) (1.5.12)\n",
      "Requirement already satisfied: py-cpuinfo>=3.3.0 in c:\\users\\mythry\\.conda\\envs\\fast2\\lib\\site-packages (from tf-models-official>=2.5.1->object-detection==0.1) (8.0.0)\n",
      "Requirement already satisfied: sentencepiece in c:\\users\\mythry\\.conda\\envs\\fast2\\lib\\site-packages (from tf-models-official>=2.5.1->object-detection==0.1) (0.1.96)\n",
      "Requirement already satisfied: tensorflow>=2.7.0 in c:\\users\\mythry\\.conda\\envs\\fast2\\lib\\site-packages (from tf-models-official>=2.5.1->object-detection==0.1) (2.7.0)\n",
      "Requirement already satisfied: tensorflow-model-optimization>=0.4.1 in c:\\users\\mythry\\.conda\\envs\\fast2\\lib\\site-packages (from tf-models-official>=2.5.1->object-detection==0.1) (0.7.0)\n",
      "Requirement already satisfied: oauth2client in c:\\users\\mythry\\.conda\\envs\\fast2\\lib\\site-packages (from tf-models-official>=2.5.1->object-detection==0.1) (4.1.3)\n",
      "Requirement already satisfied: opencv-python-headless in c:\\users\\mythry\\.conda\\envs\\fast2\\lib\\site-packages (from tf-models-official>=2.5.1->object-detection==0.1) (4.5.5.62)\n",
      "Requirement already satisfied: tensorflow-text>=2.7.0 in c:\\users\\mythry\\.conda\\envs\\fast2\\lib\\site-packages (from tf-models-official>=2.5.1->object-detection==0.1) (2.7.3)\n",
      "Requirement already satisfied: psutil>=5.4.3 in c:\\users\\mythry\\.conda\\envs\\fast2\\lib\\site-packages (from tf-models-official>=2.5.1->object-detection==0.1) (5.9.0)\n",
      "Requirement already satisfied: gin-config in c:\\users\\mythry\\.conda\\envs\\fast2\\lib\\site-packages (from tf-models-official>=2.5.1->object-detection==0.1) (0.5.0)\n",
      "Requirement already satisfied: tensorflow-addons in c:\\users\\mythry\\.conda\\envs\\fast2\\lib\\site-packages (from tf-models-official>=2.5.1->object-detection==0.1) (0.15.0)\n",
      "Requirement already satisfied: tensorflow-hub>=0.6.0 in c:\\users\\mythry\\.conda\\envs\\fast2\\lib\\site-packages (from tf-models-official>=2.5.1->object-detection==0.1) (0.12.0)\n",
      "Requirement already satisfied: sacrebleu in c:\\users\\mythry\\.conda\\envs\\fast2\\lib\\site-packages (from tf-models-official>=2.5.1->object-detection==0.1) (2.0.0)\n",
      "Requirement already satisfied: seqeval in c:\\users\\mythry\\.conda\\envs\\fast2\\lib\\site-packages (from tf-models-official>=2.5.1->object-detection==0.1) (1.2.2)\n",
      "Requirement already satisfied: google-api-python-client>=1.6.7 in c:\\users\\mythry\\.conda\\envs\\fast2\\lib\\site-packages (from tf-models-official>=2.5.1->object-detection==0.1) (2.33.0)\n",
      "Requirement already satisfied: tensorflow-datasets in c:\\users\\mythry\\.conda\\envs\\fast2\\lib\\site-packages (from tf-models-official>=2.5.1->object-detection==0.1) (4.4.0)\n",
      "Requirement already satisfied: pyyaml>=5.1 in c:\\users\\mythry\\.conda\\envs\\fast2\\lib\\site-packages (from tf-models-official>=2.5.1->object-detection==0.1) (6.0)\n",
      "Requirement already satisfied: numpy>=1.15.4 in c:\\users\\mythry\\.conda\\envs\\fast2\\lib\\site-packages (from tf-models-official>=2.5.1->object-detection==0.1) (1.18.5)\n",
      "Requirement already satisfied: httplib2<1dev,>=0.15.0 in c:\\users\\mythry\\.conda\\envs\\fast2\\lib\\site-packages (from google-api-python-client>=1.6.7->tf-models-official>=2.5.1->object-detection==0.1) (0.19.1)\n",
      "Requirement already satisfied: google-api-core<3.0.0dev,>=1.21.0 in c:\\users\\mythry\\.conda\\envs\\fast2\\lib\\site-packages (from google-api-python-client>=1.6.7->tf-models-official>=2.5.1->object-detection==0.1) (2.3.2)\n",
      "Requirement already satisfied: google-auth-httplib2>=0.1.0 in c:\\users\\mythry\\.conda\\envs\\fast2\\lib\\site-packages (from google-api-python-client>=1.6.7->tf-models-official>=2.5.1->object-detection==0.1) (0.1.0)\n",
      "Requirement already satisfied: google-auth<3.0.0dev,>=1.16.0 in c:\\users\\mythry\\.conda\\envs\\fast2\\lib\\site-packages (from google-api-python-client>=1.6.7->tf-models-official>=2.5.1->object-detection==0.1) (1.35.0)\n",
      "Requirement already satisfied: uritemplate<5,>=3.0.0 in c:\\users\\mythry\\.conda\\envs\\fast2\\lib\\site-packages (from google-api-python-client>=1.6.7->tf-models-official>=2.5.1->object-detection==0.1) (4.1.1)\n",
      "Requirement already satisfied: googleapis-common-protos<2.0dev,>=1.52.0 in c:\\users\\mythry\\.conda\\envs\\fast2\\lib\\site-packages (from google-api-core<3.0.0dev,>=1.21.0->google-api-python-client>=1.6.7->tf-models-official>=2.5.1->object-detection==0.1) (1.54.0)\n",
      "Requirement already satisfied: requests<3.0.0dev,>=2.18.0 in c:\\users\\mythry\\.conda\\envs\\fast2\\lib\\site-packages (from google-api-core<3.0.0dev,>=1.21.0->google-api-python-client>=1.6.7->tf-models-official>=2.5.1->object-detection==0.1) (2.26.0)\n",
      "Requirement already satisfied: protobuf>=3.12.0 in c:\\users\\mythry\\.conda\\envs\\fast2\\lib\\site-packages (from google-api-core<3.0.0dev,>=1.21.0->google-api-python-client>=1.6.7->tf-models-official>=2.5.1->object-detection==0.1) (3.19.1)\n",
      "Requirement already satisfied: setuptools>=40.3.0 in c:\\users\\mythry\\.conda\\envs\\fast2\\lib\\site-packages (from google-api-core<3.0.0dev,>=1.21.0->google-api-python-client>=1.6.7->tf-models-official>=2.5.1->object-detection==0.1) (58.0.4)\n",
      "Requirement already satisfied: rsa<5,>=3.1.4 in c:\\users\\mythry\\.conda\\envs\\fast2\\lib\\site-packages (from google-auth<3.0.0dev,>=1.16.0->google-api-python-client>=1.6.7->tf-models-official>=2.5.1->object-detection==0.1) (4.8)\n",
      "Requirement already satisfied: cachetools<5.0,>=2.0.0 in c:\\users\\mythry\\.conda\\envs\\fast2\\lib\\site-packages (from google-auth<3.0.0dev,>=1.16.0->google-api-python-client>=1.6.7->tf-models-official>=2.5.1->object-detection==0.1) (4.2.4)\n",
      "Requirement already satisfied: pyasn1-modules>=0.2.1 in c:\\users\\mythry\\.conda\\envs\\fast2\\lib\\site-packages (from google-auth<3.0.0dev,>=1.16.0->google-api-python-client>=1.6.7->tf-models-official>=2.5.1->object-detection==0.1) (0.2.8)\n",
      "Requirement already satisfied: pyparsing<3,>=2.4.2 in c:\\users\\mythry\\.conda\\envs\\fast2\\lib\\site-packages (from httplib2<1dev,>=0.15.0->google-api-python-client>=1.6.7->tf-models-official>=2.5.1->object-detection==0.1) (2.4.7)\n",
      "Requirement already satisfied: certifi in c:\\users\\mythry\\.conda\\envs\\fast2\\lib\\site-packages (from kaggle>=1.3.9->tf-models-official>=2.5.1->object-detection==0.1) (2021.10.8)\n",
      "Requirement already satisfied: python-dateutil in c:\\users\\mythry\\.conda\\envs\\fast2\\lib\\site-packages (from kaggle>=1.3.9->tf-models-official>=2.5.1->object-detection==0.1) (2.8.2)\n",
      "Requirement already satisfied: python-slugify in c:\\users\\mythry\\.conda\\envs\\fast2\\lib\\site-packages (from kaggle>=1.3.9->tf-models-official>=2.5.1->object-detection==0.1) (5.0.2)\n",
      "Requirement already satisfied: tqdm in c:\\users\\mythry\\.conda\\envs\\fast2\\lib\\site-packages (from kaggle>=1.3.9->tf-models-official>=2.5.1->object-detection==0.1) (4.62.3)\n",
      "Requirement already satisfied: urllib3 in c:\\users\\mythry\\.conda\\envs\\fast2\\lib\\site-packages (from kaggle>=1.3.9->tf-models-official>=2.5.1->object-detection==0.1) (1.26.7)\n",
      "Requirement already satisfied: pytz>=2017.3 in c:\\users\\mythry\\.conda\\envs\\fast2\\lib\\site-packages (from pandas->object-detection==0.1) (2021.3)\n",
      "Requirement already satisfied: pyasn1<0.5.0,>=0.4.6 in c:\\users\\mythry\\.conda\\envs\\fast2\\lib\\site-packages (from pyasn1-modules>=0.2.1->google-auth<3.0.0dev,>=1.16.0->google-api-python-client>=1.6.7->tf-models-official>=2.5.1->object-detection==0.1) (0.4.8)\n",
      "Requirement already satisfied: idna<4,>=2.5 in c:\\users\\mythry\\.conda\\envs\\fast2\\lib\\site-packages (from requests<3.0.0dev,>=2.18.0->google-api-core<3.0.0dev,>=1.21.0->google-api-python-client>=1.6.7->tf-models-official>=2.5.1->object-detection==0.1) (3.3)\n",
      "Requirement already satisfied: charset-normalizer~=2.0.0 in c:\\users\\mythry\\.conda\\envs\\fast2\\lib\\site-packages (from requests<3.0.0dev,>=2.18.0->google-api-core<3.0.0dev,>=1.21.0->google-api-python-client>=1.6.7->tf-models-official>=2.5.1->object-detection==0.1) (2.0.9)\n",
      "Requirement already satisfied: tensorflow-estimator<2.8,~=2.7.0rc0 in c:\\users\\mythry\\.conda\\envs\\fast2\\lib\\site-packages (from tensorflow>=2.7.0->tf-models-official>=2.5.1->object-detection==0.1) (2.7.0)\n",
      "Requirement already satisfied: opt-einsum>=2.3.2 in c:\\users\\mythry\\.conda\\envs\\fast2\\lib\\site-packages (from tensorflow>=2.7.0->tf-models-official>=2.5.1->object-detection==0.1) (3.3.0)\n",
      "Requirement already satisfied: keras-preprocessing>=1.1.1 in c:\\users\\mythry\\.conda\\envs\\fast2\\lib\\site-packages (from tensorflow>=2.7.0->tf-models-official>=2.5.1->object-detection==0.1) (1.1.2)\n",
      "Requirement already satisfied: tensorboard~=2.6 in c:\\users\\mythry\\.conda\\envs\\fast2\\lib\\site-packages (from tensorflow>=2.7.0->tf-models-official>=2.5.1->object-detection==0.1) (2.7.0)\n",
      "Requirement already satisfied: termcolor>=1.1.0 in c:\\users\\mythry\\.conda\\envs\\fast2\\lib\\site-packages (from tensorflow>=2.7.0->tf-models-official>=2.5.1->object-detection==0.1) (1.1.0)\n",
      "Requirement already satisfied: grpcio<2.0,>=1.24.3 in c:\\users\\mythry\\.conda\\envs\\fast2\\lib\\site-packages (from tensorflow>=2.7.0->tf-models-official>=2.5.1->object-detection==0.1) (1.43.0)\n",
      "Requirement already satisfied: google-pasta>=0.1.1 in c:\\users\\mythry\\.conda\\envs\\fast2\\lib\\site-packages (from tensorflow>=2.7.0->tf-models-official>=2.5.1->object-detection==0.1) (0.2.0)\n",
      "Requirement already satisfied: wheel<1.0,>=0.32.0 in c:\\users\\mythry\\.conda\\envs\\fast2\\lib\\site-packages (from tensorflow>=2.7.0->tf-models-official>=2.5.1->object-detection==0.1) (0.37.0)\n",
      "Requirement already satisfied: libclang>=9.0.1 in c:\\users\\mythry\\.conda\\envs\\fast2\\lib\\site-packages (from tensorflow>=2.7.0->tf-models-official>=2.5.1->object-detection==0.1) (12.0.0)\n",
      "Requirement already satisfied: flatbuffers<3.0,>=1.12 in c:\\users\\mythry\\.conda\\envs\\fast2\\lib\\site-packages (from tensorflow>=2.7.0->tf-models-official>=2.5.1->object-detection==0.1) (2.0)\n",
      "Requirement already satisfied: typing-extensions>=3.6.6 in c:\\users\\mythry\\.conda\\envs\\fast2\\lib\\site-packages (from tensorflow>=2.7.0->tf-models-official>=2.5.1->object-detection==0.1) (3.10.0.2)\n",
      "Requirement already satisfied: astunparse>=1.6.0 in c:\\users\\mythry\\.conda\\envs\\fast2\\lib\\site-packages (from tensorflow>=2.7.0->tf-models-official>=2.5.1->object-detection==0.1) (1.6.3)\n",
      "Requirement already satisfied: absl-py>=0.4.0 in c:\\users\\mythry\\.conda\\envs\\fast2\\lib\\site-packages (from tensorflow>=2.7.0->tf-models-official>=2.5.1->object-detection==0.1) (0.12.0)\n",
      "Requirement already satisfied: tensorflow-io-gcs-filesystem>=0.21.0 in c:\\users\\mythry\\.conda\\envs\\fast2\\lib\\site-packages (from tensorflow>=2.7.0->tf-models-official>=2.5.1->object-detection==0.1) (0.23.1)\n",
      "Requirement already satisfied: wrapt>=1.11.0 in c:\\users\\mythry\\.conda\\envs\\fast2\\lib\\site-packages (from tensorflow>=2.7.0->tf-models-official>=2.5.1->object-detection==0.1) (1.13.3)\n",
      "Requirement already satisfied: gast<0.5.0,>=0.2.1 in c:\\users\\mythry\\.conda\\envs\\fast2\\lib\\site-packages (from tensorflow>=2.7.0->tf-models-official>=2.5.1->object-detection==0.1) (0.3.3)\n",
      "Requirement already satisfied: h5py>=2.9.0 in c:\\users\\mythry\\.conda\\envs\\fast2\\lib\\site-packages (from tensorflow>=2.7.0->tf-models-official>=2.5.1->object-detection==0.1) (2.10.0)\n",
      "Requirement already satisfied: markdown>=2.6.8 in c:\\users\\mythry\\.conda\\envs\\fast2\\lib\\site-packages (from tensorboard~=2.6->tensorflow>=2.7.0->tf-models-official>=2.5.1->object-detection==0.1) (3.3.6)\n",
      "Requirement already satisfied: tensorboard-plugin-wit>=1.6.0 in c:\\users\\mythry\\.conda\\envs\\fast2\\lib\\site-packages (from tensorboard~=2.6->tensorflow>=2.7.0->tf-models-official>=2.5.1->object-detection==0.1) (1.8.0)\n",
      "Requirement already satisfied: tensorboard-data-server<0.7.0,>=0.6.0 in c:\\users\\mythry\\.conda\\envs\\fast2\\lib\\site-packages (from tensorboard~=2.6->tensorflow>=2.7.0->tf-models-official>=2.5.1->object-detection==0.1) (0.6.1)\n",
      "Requirement already satisfied: werkzeug>=0.11.15 in c:\\users\\mythry\\.conda\\envs\\fast2\\lib\\site-packages (from tensorboard~=2.6->tensorflow>=2.7.0->tf-models-official>=2.5.1->object-detection==0.1) (2.0.2)\n",
      "Requirement already satisfied: google-auth-oauthlib<0.5,>=0.4.1 in c:\\users\\mythry\\.conda\\envs\\fast2\\lib\\site-packages (from tensorboard~=2.6->tensorflow>=2.7.0->tf-models-official>=2.5.1->object-detection==0.1) (0.4.6)\n",
      "Requirement already satisfied: requests-oauthlib>=0.7.0 in c:\\users\\mythry\\.conda\\envs\\fast2\\lib\\site-packages (from google-auth-oauthlib<0.5,>=0.4.1->tensorboard~=2.6->tensorflow>=2.7.0->tf-models-official>=2.5.1->object-detection==0.1) (1.3.0)\n",
      "Requirement already satisfied: importlib-metadata>=4.4 in c:\\users\\mythry\\.conda\\envs\\fast2\\lib\\site-packages (from markdown>=2.6.8->tensorboard~=2.6->tensorflow>=2.7.0->tf-models-official>=2.5.1->object-detection==0.1) (4.10.0)\n",
      "Requirement already satisfied: zipp>=0.5 in c:\\users\\mythry\\.conda\\envs\\fast2\\lib\\site-packages (from importlib-metadata>=4.4->markdown>=2.6.8->tensorboard~=2.6->tensorflow>=2.7.0->tf-models-official>=2.5.1->object-detection==0.1) (3.7.0)\n",
      "Requirement already satisfied: oauthlib>=3.0.0 in c:\\users\\mythry\\.conda\\envs\\fast2\\lib\\site-packages (from requests-oauthlib>=0.7.0->google-auth-oauthlib<0.5,>=0.4.1->tensorboard~=2.6->tensorflow>=2.7.0->tf-models-official>=2.5.1->object-detection==0.1) (3.1.1)\n",
      "Requirement already satisfied: dm-tree~=0.1.1 in c:\\users\\mythry\\.conda\\envs\\fast2\\lib\\site-packages (from tensorflow-model-optimization>=0.4.1->tf-models-official>=2.5.1->object-detection==0.1) (0.1.6)\n",
      "Requirement already satisfied: orjson<4.0 in c:\\users\\mythry\\.conda\\envs\\fast2\\lib\\site-packages (from apache-beam->object-detection==0.1) (3.6.5)\n",
      "Requirement already satisfied: pymongo<4.0.0,>=3.8.0 in c:\\users\\mythry\\.conda\\envs\\fast2\\lib\\site-packages (from apache-beam->object-detection==0.1) (3.12.3)\n",
      "Requirement already satisfied: pydot<2,>=1.2.0 in c:\\users\\mythry\\.conda\\envs\\fast2\\lib\\site-packages (from apache-beam->object-detection==0.1) (1.4.2)\n",
      "Requirement already satisfied: proto-plus<2,>=1.7.1 in c:\\users\\mythry\\.conda\\envs\\fast2\\lib\\site-packages (from apache-beam->object-detection==0.1) (1.19.8)\n",
      "Requirement already satisfied: pyarrow<7.0.0,>=0.15.1 in c:\\users\\mythry\\.conda\\envs\\fast2\\lib\\site-packages (from apache-beam->object-detection==0.1) (6.0.1)\n",
      "Requirement already satisfied: crcmod<2.0,>=1.7 in c:\\users\\mythry\\.conda\\envs\\fast2\\lib\\site-packages (from apache-beam->object-detection==0.1) (1.7)\n",
      "Requirement already satisfied: dill<0.3.2,>=0.3.1.1 in c:\\users\\mythry\\.conda\\envs\\fast2\\lib\\site-packages (from apache-beam->object-detection==0.1) (0.3.1.1)\n",
      "Requirement already satisfied: fastavro<2,>=0.21.4 in c:\\users\\mythry\\.conda\\envs\\fast2\\lib\\site-packages (from apache-beam->object-detection==0.1) (1.4.8)\n",
      "Requirement already satisfied: hdfs<3.0.0,>=2.1.0 in c:\\users\\mythry\\.conda\\envs\\fast2\\lib\\site-packages (from apache-beam->object-detection==0.1) (2.6.0)\n",
      "Requirement already satisfied: docopt in c:\\users\\mythry\\.conda\\envs\\fast2\\lib\\site-packages (from hdfs<3.0.0,>=2.1.0->apache-beam->object-detection==0.1) (0.6.2)\n",
      "Requirement already satisfied: opencv-python>=4.1.0.25 in c:\\users\\mythry\\.conda\\envs\\fast2\\lib\\site-packages (from lvis->object-detection==0.1) (4.5.5.62)\n",
      "Requirement already satisfied: kiwisolver>=1.1.0 in c:\\users\\mythry\\.conda\\envs\\fast2\\lib\\site-packages (from lvis->object-detection==0.1) (1.3.2)\n",
      "Requirement already satisfied: cycler>=0.10.0 in c:\\users\\mythry\\.conda\\envs\\fast2\\lib\\site-packages (from lvis->object-detection==0.1) (0.11.0)\n",
      "Requirement already satisfied: fonttools>=4.22.0 in c:\\users\\mythry\\.conda\\envs\\fast2\\lib\\site-packages (from matplotlib->object-detection==0.1) (4.28.5)\n",
      "Requirement already satisfied: packaging>=20.0 in c:\\users\\mythry\\.conda\\envs\\fast2\\lib\\site-packages (from matplotlib->object-detection==0.1) (21.3)\n",
      "Requirement already satisfied: text-unidecode>=1.3 in c:\\users\\mythry\\.conda\\envs\\fast2\\lib\\site-packages (from python-slugify->kaggle>=1.3.9->tf-models-official>=2.5.1->object-detection==0.1) (1.3)\n",
      "Requirement already satisfied: colorama in c:\\users\\mythry\\.conda\\envs\\fast2\\lib\\site-packages (from sacrebleu->tf-models-official>=2.5.1->object-detection==0.1) (0.4.4)\n",
      "Requirement already satisfied: tabulate>=0.8.9 in c:\\users\\mythry\\.conda\\envs\\fast2\\lib\\site-packages (from sacrebleu->tf-models-official>=2.5.1->object-detection==0.1) (0.8.9)\n",
      "Requirement already satisfied: portalocker in c:\\users\\mythry\\.conda\\envs\\fast2\\lib\\site-packages (from sacrebleu->tf-models-official>=2.5.1->object-detection==0.1) (2.3.2)\n",
      "Requirement already satisfied: regex in c:\\users\\mythry\\.conda\\envs\\fast2\\lib\\site-packages (from sacrebleu->tf-models-official>=2.5.1->object-detection==0.1) (2021.11.10)\n",
      "Requirement already satisfied: pywin32>=226 in c:\\users\\mythry\\.conda\\envs\\fast2\\lib\\site-packages (from portalocker->sacrebleu->tf-models-official>=2.5.1->object-detection==0.1) (302)\n",
      "Requirement already satisfied: scikit-learn>=0.21.3 in c:\\users\\mythry\\.conda\\envs\\fast2\\lib\\site-packages (from seqeval->tf-models-official>=2.5.1->object-detection==0.1) (1.0.2)\n",
      "Requirement already satisfied: threadpoolctl>=2.0.0 in c:\\users\\mythry\\.conda\\envs\\fast2\\lib\\site-packages (from scikit-learn>=0.21.3->seqeval->tf-models-official>=2.5.1->object-detection==0.1) (3.0.0)\n",
      "Requirement already satisfied: joblib>=0.11 in c:\\users\\mythry\\.conda\\envs\\fast2\\lib\\site-packages (from scikit-learn>=0.21.3->seqeval->tf-models-official>=2.5.1->object-detection==0.1) (1.1.0)\n",
      "Requirement already satisfied: typeguard>=2.7 in c:\\users\\mythry\\.conda\\envs\\fast2\\lib\\site-packages (from tensorflow-addons->tf-models-official>=2.5.1->object-detection==0.1) (2.13.3)\n",
      "Requirement already satisfied: attrs>=18.1.0 in c:\\users\\mythry\\.conda\\envs\\fast2\\lib\\site-packages (from tensorflow-datasets->tf-models-official>=2.5.1->object-detection==0.1) (21.2.0)\n",
      "Requirement already satisfied: promise in c:\\users\\mythry\\.conda\\envs\\fast2\\lib\\site-packages (from tensorflow-datasets->tf-models-official>=2.5.1->object-detection==0.1) (2.3)\n",
      "Requirement already satisfied: tensorflow-metadata in c:\\users\\mythry\\.conda\\envs\\fast2\\lib\\site-packages (from tensorflow-datasets->tf-models-official>=2.5.1->object-detection==0.1) (1.5.0)\n",
      "Requirement already satisfied: importlib-resources in c:\\users\\mythry\\.conda\\envs\\fast2\\lib\\site-packages (from tensorflow-datasets->tf-models-official>=2.5.1->object-detection==0.1) (5.4.0)\n",
      "Requirement already satisfied: future in c:\\users\\mythry\\.conda\\envs\\fast2\\lib\\site-packages (from tensorflow-datasets->tf-models-official>=2.5.1->object-detection==0.1) (0.18.2)\n",
      "Building wheels for collected packages: object-detection\n",
      "  Building wheel for object-detection (setup.py): started\n",
      "  Building wheel for object-detection (setup.py): finished with status 'done'\n",
      "  Created wheel for object-detection: filename=object_detection-0.1-py3-none-any.whl size=1661672 sha256=3ba2a9f50640dd7db59ce08d052021a0c343e37f18dda561e9590e5a94ec35a5\n",
      "  Stored in directory: C:\\Users\\MYTHRY\\AppData\\Local\\Temp\\pip-ephem-wheel-cache-t9dizx8n\\wheels\\6a\\6b\\ba\\fce368818612a6bb409937b9988f3150d3fa35c81502d46972\n",
      "Successfully built object-detection\n",
      "Installing collected packages: object-detection\n",
      "  Attempting uninstall: object-detection\n",
      "    Found existing installation: object-detection 0.1\n",
      "    Uninstalling object-detection-0.1:\n",
      "      Successfully uninstalled object-detection-0.1\n",
      "Successfully installed object-detection-0.1\n"
     ]
    },
    {
     "name": "stderr",
     "output_type": "stream",
     "text": [
      "  DEPRECATION: A future pip version will change local packages to be built in-place without first copying to a temporary directory. We recommend you use --use-feature=in-tree-build to test your packages with this new behavior before it becomes the default.\n",
      "   pip 21.3 will remove support for this functionality. You can find discussion regarding this at https://github.com/pypa/pip/issues/7555.\n"
     ]
    }
   ],
   "source": [
    "!python -m pip install ."
   ]
  },
  {
   "cell_type": "markdown",
   "id": "5f90dd1c",
   "metadata": {},
   "source": [
    "# To Check gpu is vailable"
   ]
  },
  {
   "cell_type": "code",
   "execution_count": 9,
   "id": "b96726d5",
   "metadata": {},
   "outputs": [],
   "source": [
    "import tensorflow as tf"
   ]
  },
  {
   "cell_type": "code",
   "execution_count": 10,
   "id": "b555b32e",
   "metadata": {},
   "outputs": [
    {
     "name": "stdout",
     "output_type": "stream",
     "text": [
      "WARNING:tensorflow:From C:\\Users\\MYTHRY\\AppData\\Local\\Temp/ipykernel_11896/501681495.py:1: is_gpu_available (from tensorflow.python.framework.test_util) is deprecated and will be removed in a future version.\n",
      "Instructions for updating:\n",
      "Use `tf.config.list_physical_devices('GPU')` instead.\n"
     ]
    },
    {
     "data": {
      "text/plain": [
       "True"
      ]
     },
     "execution_count": 10,
     "metadata": {},
     "output_type": "execute_result"
    }
   ],
   "source": [
    "tf.test.is_gpu_available(\n",
    "    cuda_only=False, min_cuda_compute_capability=None\n",
    ")"
   ]
  },
  {
   "cell_type": "markdown",
   "id": "0d2d51bc",
   "metadata": {},
   "source": [
    "# Create TensorFlow Records"
   ]
  },
  {
   "cell_type": "markdown",
   "id": "1f953069",
   "metadata": {},
   "source": [
    "Convert *.xml to *.record"
   ]
  },
  {
   "cell_type": "code",
   "execution_count": 1,
   "id": "1ea270eb",
   "metadata": {},
   "outputs": [
    {
     "name": "stdout",
     "output_type": "stream",
     "text": [
      "C:\\Users\\MYTHRY\\Desktop\\poc2\\Invoice\\fast2\n"
     ]
    }
   ],
   "source": [
    "cd C:\\Users\\MYTHRY\\Desktop\\poc2\\Invoice\\fast2"
   ]
  },
  {
   "cell_type": "code",
   "execution_count": 7,
   "id": "53e041c7",
   "metadata": {},
   "outputs": [
    {
     "name": "stdout",
     "output_type": "stream",
     "text": [
      "Successfully created the TFRecord file: C:/Users/MYTHRY/Desktop/poc2/Invoice/fast2/Annotation/train.record\n",
      "Successfully created the TFRecord file: C:/Users/MYTHRY/Desktop/poc2/Invoice/fast2/Annotation/test.record\n"
     ]
    }
   ],
   "source": [
    "# Create train data:\n",
    "!python generate_tfrecord.py -x C:/Users/MYTHRY/Desktop/poc2/Invoice/fast2/images/train -l C:/Users/MYTHRY/Desktop/poc2/Invoice/fast2/Annotation/label_map.pbtxt -o C:/Users/MYTHRY/Desktop/poc2/Invoice/fast2/Annotation/train.record\n",
    "\n",
    "# Create test data:\n",
    "!python generate_tfrecord.py -x C:/Users/MYTHRY/Desktop/poc2/Invoice/fast2/images/test -l C:/Users/MYTHRY/Desktop/poc2/Invoice/fast2/Annotation/label_map.pbtxt -o C:/Users/MYTHRY/Desktop/poc2/Invoice/fast2/Annotation/test.record\n",
    "\n",
    "# For example\n",
    "# python generate_tfrecord.py -x C:/Users/sglvladi/Documents/Tensorflow/workspace/training_demo/images/train -l C:/Users/sglvladi/Documents/Tensorflow/workspace/training_demo/annotations/label_map.pbtxt -o C:/Users/sglvladi/Documents/Tensorflow/workspace/training_demo/annotations/train.record\n",
    "# python generate_tfrecord.py -x C:/Users/sglvladi/Documents/Tensorflow/workspace/training_demo/images/test -l C:/Users/sglvladi/Documents/Tensorflow2/workspace/training_demo/annotations/label_map.pbtxt -o C:/Users/sglvladi/Documents/Tensorflow/workspace/training_demo/annotations/test.record"
   ]
  },
  {
   "cell_type": "code",
   "execution_count": 2,
   "id": "02288b0a",
   "metadata": {},
   "outputs": [
    {
     "data": {
      "text/plain": [
       "'C:\\\\Users\\\\MYTHRY\\\\Desktop\\\\poc2\\\\Invoice\\\\fast2'"
      ]
     },
     "execution_count": 2,
     "metadata": {},
     "output_type": "execute_result"
    }
   ],
   "source": [
    "pwd"
   ]
  },
  {
   "cell_type": "code",
   "execution_count": 1,
   "id": "e918022f",
   "metadata": {},
   "outputs": [
    {
     "name": "stdout",
     "output_type": "stream",
     "text": [
      "Sat Jan 15 16:55:53 2022       \n",
      "+-----------------------------------------------------------------------------+\n",
      "| NVIDIA-SMI 471.41       Driver Version: 471.41       CUDA Version: 11.4     |\n",
      "|-------------------------------+----------------------+----------------------+\n",
      "| GPU  Name            TCC/WDDM | Bus-Id        Disp.A | Volatile Uncorr. ECC |\n",
      "| Fan  Temp  Perf  Pwr:Usage/Cap|         Memory-Usage | GPU-Util  Compute M. |\n",
      "|                               |                      |               MIG M. |\n",
      "|===============================+======================+======================|\n",
      "|   0  NVIDIA GeForce ... WDDM  | 00000000:01:00.0 Off |                  N/A |\n",
      "| N/A   46C    P3    14W /  N/A |    106MiB /  4096MiB |      0%      Default |\n",
      "|                               |                      |                  N/A |\n",
      "+-------------------------------+----------------------+----------------------+\n",
      "                                                                               \n",
      "+-----------------------------------------------------------------------------+\n",
      "| Processes:                                                                  |\n",
      "|  GPU   GI   CI        PID   Type   Process name                  GPU Memory |\n",
      "|        ID   ID                                                   Usage      |\n",
      "|=============================================================================|\n",
      "|  No running processes found                                                 |\n",
      "+-----------------------------------------------------------------------------+\n"
     ]
    }
   ],
   "source": [
    "!nvidia-smi"
   ]
  },
  {
   "cell_type": "code",
   "execution_count": 2,
   "id": "89bb2fb5",
   "metadata": {},
   "outputs": [],
   "source": [
    "import os\n",
    "os.environ['TF_FORCE_GPU_ALLOW_GROWTH'] = 'true'\n"
   ]
  },
  {
   "cell_type": "markdown",
   "id": "e5f9b4b4",
   "metadata": {},
   "source": [
    "# Train the model"
   ]
  },
  {
   "cell_type": "code",
   "execution_count": 20,
   "id": "43851a2c",
   "metadata": {
    "scrolled": false
   },
   "outputs": [
    {
     "name": "stdout",
     "output_type": "stream",
     "text": [
      "^C\n"
     ]
    }
   ],
   "source": [
    "!python C:/Users/MYTHRY/Desktop/poc2/Invoice/fast2/model_main_tf2.py --model_dir=C:/Users/MYTHRY/Desktop/poc2/Invoice/fast2/models/faster_rcnn_resnet50_v1_640x640 --pipeline_config_path=C:/Users/MYTHRY/Desktop/poc2/Invoice/fast2/models/faster_rcnn_resnet50_v1_640x640/pipeline.config"
   ]
  },
  {
   "cell_type": "code",
   "execution_count": 19,
   "id": "b8bc00dd",
   "metadata": {},
   "outputs": [
    {
     "name": "stdout",
     "output_type": "stream",
     "text": [
      "1.18.5\n"
     ]
    }
   ],
   "source": [
    "import numpy \n",
    "print(numpy.__version__)\n",
    "pip install numpy ==1.21.1"
   ]
  },
  {
   "cell_type": "markdown",
   "id": "3de2ce6b",
   "metadata": {},
   "source": [
    "# Evaluating the Model "
   ]
  },
  {
   "cell_type": "code",
   "execution_count": 22,
   "id": "4f8d36e4",
   "metadata": {},
   "outputs": [
    {
     "name": "stdout",
     "output_type": "stream",
     "text": [
      "^C\n"
     ]
    }
   ],
   "source": [
    "!python C:\\Users\\MYTHRY\\Desktop\\poc2\\Invoice\\fast2\\exporter_main_v2.py --input_type image_tensor --pipeline_config_path C:/Users/MYTHRY/Desktop/poc2/Invoice/fast2/models/faster_rcnn_resnet50_v1_640x640/pipeline.config --trained_checkpoint_dir C:\\Users\\MYTHRY\\Desktop\\poc2\\Invoice\\fast2\\models\\faster_rcnn_resnet50_v1_640x640 --output_directory C:\\Users\\MYTHRY\\Desktop\\poc2\\Invoice\\fast2\\exported-models\\my_model\n"
   ]
  },
  {
   "cell_type": "code",
   "execution_count": 5,
   "id": "c4d591e9",
   "metadata": {},
   "outputs": [
    {
     "name": "stdout",
     "output_type": "stream",
     "text": [
      "C:\\Users\\MYTHRY\\Desktop\\poc2\\Invoice\\fast2\n"
     ]
    }
   ],
   "source": [
    "cd C:\\Users\\MYTHRY\\Desktop\\poc2\\Invoice\\fast2"
   ]
  },
  {
   "cell_type": "markdown",
   "id": "47eb491f",
   "metadata": {},
   "source": [
    "# Monitor Training Job Progress using TensorBoard"
   ]
  },
  {
   "cell_type": "code",
   "execution_count": null,
   "id": "983292bf",
   "metadata": {},
   "outputs": [],
   "source": [
    "!tensorboard --logdir=C:/Users/MYTHRY/Desktop/poc2/Invoice/fast2/models/faster_rcnn_resnet50_v1_640x640\n"
   ]
  },
  {
   "cell_type": "code",
   "execution_count": 8,
   "id": "2f525684",
   "metadata": {},
   "outputs": [
    {
     "name": "stderr",
     "output_type": "stream",
     "text": [
      "usage: tensorboard [-h] [--helpfull] {serve,dev} ...\n",
      "tensorboard: error: invalid choice: '2.2.2' (choose from 'serve', 'dev')\n"
     ]
    }
   ],
   "source": [
    "!TensorBoard 2.2.2 at http://localhost:6006/ (Press CTRL+C to quit)"
   ]
  },
  {
   "cell_type": "code",
   "execution_count": null,
   "id": "fe2e8c30",
   "metadata": {},
   "outputs": [],
   "source": [
    "%load_ext tensorboard\n",
    "%tensorboard --logdir runs/train"
   ]
  },
  {
   "cell_type": "markdown",
   "id": "8bb5dc2d",
   "metadata": {},
   "source": [
    "# Inferencing My Trained Models"
   ]
  },
  {
   "cell_type": "code",
   "execution_count": 2,
   "id": "8b592b45",
   "metadata": {},
   "outputs": [
    {
     "name": "stdout",
     "output_type": "stream",
     "text": [
      "Loading model...Done! Took 4.61115288734436 seconds\n",
      "Running inference for C:/Users/MYTHRY/Desktop/poc2/Invoice/fast2/images/Train/0_7175.pdf.jpg... Done\n",
      "[[0.6267101  0.7318857  0.64235604 0.8158677 ]\n",
      " [0.14877518 0.23256138 0.16307913 0.3037628 ]\n",
      " [0.01832136 0.29881415 0.04181588 0.69846773]\n",
      " [0.20650344 0.05638702 0.22058287 0.33162147]\n",
      " [0.1639146  0.23944093 0.17385484 0.33269852]]\n"
     ]
    }
   ],
   "source": [
    "\"\"\"\n",
    "Object Detection (On Image) From TF2 Saved Model\n",
    "=====================================\n",
    "\"\"\"\n",
    "\n",
    "import os\n",
    "os.environ['TF_CPP_MIN_LOG_LEVEL'] = '2'    # Suppress TensorFlow logging (1)\n",
    "import pathlib\n",
    "import tensorflow as tf\n",
    "import cv2\n",
    "import argparse\n",
    "%matplotlib inline\n",
    "#from google.colab.patches import cv2_imshow\n",
    "\n",
    "# Enable GPU dynamic memory allocation\n",
    "gpus = tf.config.experimental.list_physical_devices('GPU')\n",
    "for gpu in gpus:\n",
    "    tf.config.experimental.set_memory_growth(gpu, True)\n",
    "\n",
    "# PROVIDE PATH TO IMAGE DIRECTORY\n",
    "IMAGE_PATHS = 'C:/Users/MYTHRY/Desktop/poc2/Invoice/fast2/images/Train/0_7175.pdf.jpg'\n",
    "\n",
    "\n",
    "# PROVIDE PATH TO MODEL DIRECTORY\n",
    "PATH_TO_MODEL_DIR = 'C:/Users/MYTHRY/Desktop/poc2/Invoice/fast2/exported-models/my_model'\n",
    "\n",
    "# PROVIDE PATH TO LABEL MAP\n",
    "PATH_TO_LABELS = 'C:/Users/MYTHRY/Desktop/poc2/Invoice/fast2/Annotation/label_map.pbtxt'\n",
    "\n",
    "# PROVIDE THE MINIMUM CONFIDENCE THRESHOLD\n",
    "MIN_CONF_THRESH = float(0.60)\n",
    "\n",
    "# LOAD THE MODEL\n",
    "\n",
    "import time\n",
    "from object_detection.utils import label_map_util\n",
    "from object_detection.utils import visualization_utils as viz_utils\n",
    "\n",
    "PATH_TO_SAVED_MODEL = PATH_TO_MODEL_DIR + \"/saved_model\"\n",
    "\n",
    "print('Loading model...', end='')\n",
    "start_time = time.time()\n",
    "\n",
    "# LOAD SAVED MODEL AND BUILD DETECTION FUNCTION\n",
    "detect_fn = tf.saved_model.load(PATH_TO_SAVED_MODEL)\n",
    "\n",
    "end_time = time.time()\n",
    "elapsed_time = end_time - start_time\n",
    "print('Done! Took {} seconds'.format(elapsed_time))\n",
    "\n",
    "# LOAD LABEL MAP DATA FOR PLOTTING\n",
    "\n",
    "category_index = label_map_util.create_category_index_from_labelmap(PATH_TO_LABELS,\n",
    "                                                                    use_display_name=True)\n",
    "\n",
    "import numpy as np\n",
    "from PIL import Image\n",
    "import matplotlib.pyplot as plt\n",
    "import warnings\n",
    "warnings.filterwarnings('ignore')   # Suppress Matplotlib warnings\n",
    "\n",
    "def load_image_into_numpy_array(path):\n",
    "    \"\"\"Load an image from file into a numpy array.\n",
    "    Puts image into numpy array to feed into tensorflow graph.\n",
    "    Note that by convention we put it into a numpy array with shape\n",
    "    (height, width, channels), where channels=3 for RGB.\n",
    "    Args:\n",
    "      path: the file path to the image\n",
    "    Returns:\n",
    "      uint8 numpy array with shape (img_height, img_width, 3)\n",
    "    \"\"\"\n",
    "    return np.array(Image.open(path))\n",
    "\n",
    "\n",
    "\n",
    "\n",
    "print('Running inference for {}... '.format(IMAGE_PATHS), end='')\n",
    "\n",
    "image = cv2.imread(IMAGE_PATHS)\n",
    "image_rgb = cv2.cvtColor(image, cv2.COLOR_BGR2RGB)\n",
    "image_expanded = np.expand_dims(image_rgb, axis=0)\n",
    "\n",
    "# The input needs to be a tensor, convert it using `tf.convert_to_tensor`.\n",
    "input_tensor = tf.convert_to_tensor(image)\n",
    "# The model expects a batch of images, so add an axis with `tf.newaxis`.\n",
    "input_tensor = input_tensor[tf.newaxis, ...]\n",
    "\n",
    "# input_tensor = np.expand_dims(image_np, 0)\n",
    "detections = detect_fn(input_tensor)\n",
    "\n",
    "# All outputs are batches tensors.\n",
    "# Convert to numpy arrays, and take index [0] to remove the batch dimension.\n",
    "# We're only interested in the first num_detections.\n",
    "num_detections = int(detections.pop('num_detections'))\n",
    "detections = {key: value[0, :num_detections].numpy()\n",
    "               for key, value in detections.items()}\n",
    "detections['num_detections'] = num_detections\n",
    "\n",
    "# detection_classes should be ints.\n",
    "detections['detection_classes'] = detections['detection_classes'].astype(np.int64)\n",
    "\n",
    "image_with_detections = image.copy()\n",
    "\n",
    "# SET MIN_SCORE_THRESH BASED ON YOU MINIMUM THRESHOLD FOR DETECTIONS\n",
    "viz_utils.visualize_boxes_and_labels_on_image_array(\n",
    "      image_with_detections,\n",
    "      detections['detection_boxes'],\n",
    "      detections['detection_classes'],\n",
    "      detections['detection_scores'],\n",
    "      category_index,\n",
    "      use_normalized_coordinates=True,\n",
    "      max_boxes_to_draw=200,\n",
    "      min_score_thresh=0.5,\n",
    "      agnostic_mode=False)\n",
    "\n",
    "print('Done')\n",
    "# DISPLAYS OUTPUT IMAGE\n",
    "#cv2.imshow(image_with_detections,IMAGE_PATHS)\n",
    "cv2.imwrite('C:/Users/MYTHRY/Desktop/poc2/Invoice/fast2/Fastercnn_prediction/img.jpg', image_with_detections)\n",
    "plt.figure(figsize=(12,16))\n",
    "plt.imshow(image_with_detections)\n",
    "#cv2.waitKey(0)# CLOSES WINDOW ONCE KEY IS PRESSED\n",
    "# bounding box prediction\n",
    "data=detections['detection_scores']\n",
    "t=np.where(data>0.6)\n",
    "#print(detections['detection_scores'][t])\n",
    "print(detections['detection_boxes'][t])\n",
    "data=detections['detection_boxes'][t]\n",
    "#print(detections['detection_classes'][t])\n",
    "#ymin,xmin,ymax,xmax"
   ]
  },
  {
   "cell_type": "markdown",
   "id": "06c791e8",
   "metadata": {},
   "source": [
    "# Cropping Image"
   ]
  },
  {
   "cell_type": "raw",
   "id": "f900ea0c",
   "metadata": {},
   "source": [
    "[0.6267101  0.7318857  0.64235604 0.8158677 ]\n",
    "#ymin,xmin,ymax,xmax"
   ]
  },
  {
   "cell_type": "raw",
   "id": "0c956cdc",
   "metadata": {},
   "source": [
    "import cv2\n",
    "%matplotlib inline\n",
    "import matplotlib.pyplot as plt\n",
    "(frame_height, frame_width) = image.shape[:2]\n",
    "for i in range(len(np.squeeze(scores))):\n",
    "    #print(np.squeeze(boxes)[i])\n",
    "    ymin = int((np.squeeze(boxes)[i][0]*frame_height))\n",
    "    xmin = int((np.squeeze(boxes)[i][1]*frame_width))\n",
    "    ymax = int((np.squeeze(boxes)[i][2]*frame_height))\n",
    "    xmax = int((np.squeeze(boxes)[i][3]*frame_width))"
   ]
  },
  {
   "cell_type": "code",
   "execution_count": 147,
   "id": "7b8f35b4",
   "metadata": {},
   "outputs": [
    {
     "data": {
      "text/plain": [
       "True"
      ]
     },
     "execution_count": 147,
     "metadata": {},
     "output_type": "execute_result"
    },
    {
     "data": {
      "image/png": "[encoded data removed]",
      "text/plain": [
       "<Figure size 432x288 with 1 Axes>"
      ]
     },
     "metadata": {
      "needs_background": "light"
     },
     "output_type": "display_data"
    }
   ],
   "source": [
    "imgcv = cv2.imread('C:/Users/MYTHRY/Desktop/poc2/Invoice/fast2/Fastercnn_prediction/img.jpg')\n",
    "(frame_height, frame_width) = imgcv.shape[:2]\n",
    "ymin = int((0.6267101*frame_height))\n",
    "xmin = int((0.7318857*frame_width))\n",
    "ymax = int((0.64235604*frame_height))\n",
    "xmax = int((0.8158677*frame_width))\n",
    "crop_img = imgcv[ymin:ymax,xmin:xmax]\n",
    "plt.imshow((crop_img))\n",
    "cv2.imwrite('C:/Users/MYTHRY/Desktop/poc2/Invoice/fast2/Fastercnn_prediction/crop2.jpg', crop_img)"
   ]
  },
  {
   "cell_type": "code",
   "execution_count": 115,
   "id": "cfbd8fb1",
   "metadata": {},
   "outputs": [
    {
     "ename": "SyntaxError",
     "evalue": "invalid syntax (Temp/ipykernel_15304/3927509220.py, line 1)",
     "output_type": "error",
     "traceback": [
      "\u001b[1;36m  File \u001b[1;32m\"C:\\Users\\MYTHRY\\AppData\\Local\\Temp/ipykernel_15304/3927509220.py\"\u001b[1;36m, line \u001b[1;32m1\u001b[0m\n\u001b[1;33m    [0.14877518 0.23256138 0.16307913 0.303762]8\u001b[0m\n\u001b[1;37m                ^\u001b[0m\n\u001b[1;31mSyntaxError\u001b[0m\u001b[1;31m:\u001b[0m invalid syntax\n"
     ]
    }
   ],
   "source": [
    "[0.14877518 0.23256138 0.16307913 0.303762]8 "
   ]
  },
  {
   "cell_type": "code",
   "execution_count": 146,
   "id": "6f013571",
   "metadata": {},
   "outputs": [
    {
     "data": {
      "text/plain": [
       "True"
      ]
     },
     "execution_count": 146,
     "metadata": {},
     "output_type": "execute_result"
    },
    {
     "data": {
      "image/png": "[encoded data removed]",
      "text/plain": [
       "<Figure size 432x288 with 1 Axes>"
      ]
     },
     "metadata": {
      "needs_background": "light"
     },
     "output_type": "display_data"
    }
   ],
   "source": [
    "imgcv = cv2.imread('C:/Users/MYTHRY/Desktop/poc2/Invoice/fast2/Fastercnn_prediction/img.jpg')\n",
    "(frame_height, frame_width) = imgcv.shape[:2]\n",
    "ymin = int((0.14877518*frame_height))\n",
    "xmin = int((0.23256138*frame_width))\n",
    "ymax = int((0.16307913*frame_height))\n",
    "xmax = int((0.3037628*frame_width))\n",
    "crop_img = imgcv[ymin:ymax,xmin:xmax]\n",
    "plt.imshow((crop_img))\n",
    "cv2.imwrite('C:/Users/MYTHRY/Desktop/poc2/Invoice/fast2/Fastercnn_prediction/crop1.jpg', crop_img)"
   ]
  },
  {
   "cell_type": "code",
   "execution_count": 117,
   "id": "722ced09",
   "metadata": {},
   "outputs": [
    {
     "data": {
      "text/plain": [
       "<matplotlib.image.AxesImage at 0x2afc2faf250>"
      ]
     },
     "execution_count": 117,
     "metadata": {},
     "output_type": "execute_result"
    },
    {
     "data": {
      "image/png": "[encoded data removed]",
      "text/plain": [
       "<Figure size 432x288 with 1 Axes>"
      ]
     },
     "metadata": {
      "needs_background": "light"
     },
     "output_type": "display_data"
    }
   ],
   "source": [
    "imgcv = cv2.imread('C:/Users/MYTHRY/Desktop/poc2/Invoice/fast2/Fastercnn_prediction/img.jpg')\n",
    "(frame_height, frame_width) = imgcv.shape[:2]\n",
    "ymin = int((0.20650344*frame_height))\n",
    "xmin = int((0.05638704*frame_width))\n",
    "ymax = int((0.22058287*frame_height))\n",
    "xmax = int((0.3316215*frame_width))\n",
    "crop_img = imgcv[ymin:ymax,xmin:xmax]\n",
    "plt.imshow((crop_img))"
   ]
  },
  {
   "cell_type": "code",
   "execution_count": 119,
   "id": "4d5e7d8f",
   "metadata": {},
   "outputs": [
    {
     "data": {
      "text/plain": [
       "array([[0.6267101 , 0.7318857 , 0.64235604, 0.8158677 ],\n",
       "       [0.14877518, 0.23256138, 0.16307913, 0.3037628 ],\n",
       "       [0.01832136, 0.29881412, 0.04181588, 0.6984677 ],\n",
       "       [0.20650344, 0.05638704, 0.22058287, 0.3316215 ],\n",
       "       [0.1639146 , 0.23944092, 0.17385484, 0.33269852]], dtype=float32)"
      ]
     },
     "execution_count": 119,
     "metadata": {},
     "output_type": "execute_result"
    }
   ],
   "source": [
    "data"
   ]
  },
  {
   "cell_type": "code",
   "execution_count": 133,
   "id": "2a935933",
   "metadata": {},
   "outputs": [
    {
     "name": "stdout",
     "output_type": "stream",
     "text": [
      "[0.6267101  0.7318857  0.64235604 0.8158677 ]\n",
      "[0.14877518 0.23256138 0.16307913 0.3037628 ]\n",
      "[0.01832136 0.29881412 0.04181588 0.6984677 ]\n",
      "[0.20650344 0.05638704 0.22058287 0.3316215 ]\n",
      "[0.1639146  0.23944092 0.17385484 0.33269852]\n"
     ]
    },
    {
     "data": {
      "text/plain": [
       "array([0.6267101 , 0.7318857 , 0.64235604, 0.8158677 ], dtype=float32)"
      ]
     },
     "execution_count": 133,
     "metadata": {},
     "output_type": "execute_result"
    }
   ],
   "source": [
    "new=[]\n",
    "for each in data:\n",
    "    print(each)\n",
    "    new.append(each)\n",
    "new[0]\n"
   ]
  },
  {
   "cell_type": "markdown",
   "id": "068afa7a",
   "metadata": {},
   "source": [
    "# Extarcting text From Croped Image"
   ]
  },
  {
   "cell_type": "code",
   "execution_count": 154,
   "id": "ab603557",
   "metadata": {
    "scrolled": true
   },
   "outputs": [
    {
     "name": "stdout",
     "output_type": "stream",
     "text": [
      "1,19,593.0¢\n",
      "\n",
      "ee tem\n",
      "\n",
      "ilnvoice Date: 74 0%\n",
      "\n"
     ]
    }
   ],
   "source": [
    "import pytesseract\n",
    "pytesseract.pytesseract.tesseract_cmd = r'C:\\Program Files\\Tesseract-OCR\\tesseract.exe'\n",
    "img = cv2.imread('C:/Users/MYTHRY/Desktop/poc2/Invoice/fast2/Fastercnn_prediction/crop2.jpg')\n",
    "img1 = cv2.imread('C:/Users/MYTHRY/Desktop/poc2/Invoice/fast2/Fastercnn_prediction/crop1.jpg')\n",
    "text = pytesseract.image_to_string(img)\n",
    "text1 = pytesseract.image_to_string(img1)\n",
    "print(text)\n",
    "print(text1)"
   ]
  },
  {
   "cell_type": "code",
   "execution_count": null,
   "id": "3b564828",
   "metadata": {},
   "outputs": [],
   "source": []
  }
 ],
 "metadata": {
  "kernelspec": {
   "display_name": "Python 3 (ipykernel)",
   "language": "python",
   "name": "python3"
  },
  "language_info": {
   "codemirror_mode": {
    "name": "ipython",
    "version": 3
   },
   "file_extension": ".py",
   "mimetype": "text/x-python",
   "name": "python",
   "nbconvert_exporter": "python",
   "pygments_lexer": "ipython3",
   "version": "3.10.0"
  }
 },
 "nbformat": 4,
 "nbformat_minor": 5
}
